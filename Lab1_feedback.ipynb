{
 "cells": [
  {
   "cell_type": "code",
   "execution_count": 1,
   "metadata": {},
   "outputs": [
    {
     "name": "stdout",
     "output_type": "stream",
     "text": [
      "Requirement already satisfied: beautifulsoup4 in c:\\users\\denis\\appdata\\local\\programs\\python\\python39\\lib\\site-packages (4.12.2)\n",
      "Requirement already satisfied: soupsieve>1.2 in c:\\users\\denis\\appdata\\local\\programs\\python\\python39\\lib\\site-packages (from beautifulsoup4) (2.3.2.post1)\n",
      "Note: you may need to restart the kernel to use updated packages.\n"
     ]
    },
    {
     "name": "stderr",
     "output_type": "stream",
     "text": [
      "\n",
      "[notice] A new release of pip is available: 23.1.2 -> 23.2.1\n",
      "[notice] To update, run: python.exe -m pip install --upgrade pip\n"
     ]
    }
   ],
   "source": [
    "pip install beautifulsoup4 "
   ]
  },
  {
   "cell_type": "code",
   "execution_count": 2,
   "metadata": {},
   "outputs": [
    {
     "name": "stdout",
     "output_type": "stream",
     "text": [
      "Requirement already satisfied: requests in c:\\users\\denis\\appdata\\local\\programs\\python\\python39\\lib\\site-packages (2.28.1)\n",
      "Requirement already satisfied: charset-normalizer<3,>=2 in c:\\users\\denis\\appdata\\local\\programs\\python\\python39\\lib\\site-packages (from requests) (2.1.1)\n",
      "Requirement already satisfied: idna<4,>=2.5 in c:\\users\\denis\\appdata\\local\\programs\\python\\python39\\lib\\site-packages (from requests) (3.4)\n",
      "Requirement already satisfied: urllib3<1.27,>=1.21.1 in c:\\users\\denis\\appdata\\local\\programs\\python\\python39\\lib\\site-packages (from requests) (1.26.12)\n",
      "Requirement already satisfied: certifi>=2017.4.17 in c:\\users\\denis\\appdata\\local\\programs\\python\\python39\\lib\\site-packages (from requests) (2022.9.24)\n",
      "Note: you may need to restart the kernel to use updated packages.\n"
     ]
    },
    {
     "name": "stderr",
     "output_type": "stream",
     "text": [
      "\n",
      "[notice] A new release of pip is available: 23.1.2 -> 23.2.1\n",
      "[notice] To update, run: python.exe -m pip install --upgrade pip\n"
     ]
    }
   ],
   "source": [
    "pip install requests"
   ]
  },
  {
   "cell_type": "code",
   "execution_count": 3,
   "metadata": {},
   "outputs": [],
   "source": [
    "from bs4 import BeautifulSoup\n",
    "import requests"
   ]
  },
  {
   "cell_type": "code",
   "execution_count": 4,
   "metadata": {},
   "outputs": [],
   "source": [
    "import json\n",
    "import time"
   ]
  },
  {
   "cell_type": "code",
   "execution_count": 5,
   "metadata": {},
   "outputs": [
    {
     "ename": "NameError",
     "evalue": "name 'root' is not defined",
     "output_type": "error",
     "traceback": [
      "\u001b[1;31m---------------------------------------------------------------------------\u001b[0m",
      "\u001b[1;31mNameError\u001b[0m                                 Traceback (most recent call last)",
      "\u001b[1;32mc:\\Users\\denis\\Downloads\\ПИ21-4 Еремеев Лаб1 (№1-3).ipynb Cell 5\u001b[0m line \u001b[0;36m1\n\u001b[0;32m     <a href='vscode-notebook-cell:/c%3A/Users/denis/Downloads/%D0%9F%D0%9821-4%20%D0%95%D1%80%D0%B5%D0%BC%D0%B5%D0%B5%D0%B2%20%D0%9B%D0%B0%D0%B11%20%28%E2%84%961-3%29.ipynb#W4sZmlsZQ%3D%3D?line=14'>15</a>\u001b[0m \u001b[39m#Пройдёмся по каждой ссылке в цикле и сохраним информацию \u001b[39;00m\n\u001b[0;32m     <a href='vscode-notebook-cell:/c%3A/Users/denis/Downloads/%D0%9F%D0%9821-4%20%D0%95%D1%80%D0%B5%D0%BC%D0%B5%D0%B5%D0%B2%20%D0%9B%D0%B0%D0%B11%20%28%E2%84%961-3%29.ipynb#W4sZmlsZQ%3D%3D?line=15'>16</a>\u001b[0m \u001b[39mfor\u001b[39;00m link \u001b[39min\u001b[39;00m links:\n\u001b[1;32m---> <a href='vscode-notebook-cell:/c%3A/Users/denis/Downloads/%D0%9F%D0%9821-4%20%D0%95%D1%80%D0%B5%D0%BC%D0%B5%D0%B5%D0%B2%20%D0%9B%D0%B0%D0%B11%20%28%E2%84%961-3%29.ipynb#W4sZmlsZQ%3D%3D?line=16'>17</a>\u001b[0m     result \u001b[39m=\u001b[39m requests\u001b[39m.\u001b[39mget(\u001b[39mf\u001b[39m\u001b[39m'\u001b[39m\u001b[39m{\u001b[39;00mroot\u001b[39m}\u001b[39;00m\u001b[39m{\u001b[39;00mlink\u001b[39m}\u001b[39;00m\u001b[39m'\u001b[39m)\n\u001b[0;32m     <a href='vscode-notebook-cell:/c%3A/Users/denis/Downloads/%D0%9F%D0%9821-4%20%D0%95%D1%80%D0%B5%D0%BC%D0%B5%D0%B5%D0%B2%20%D0%9B%D0%B0%D0%B11%20%28%E2%84%961-3%29.ipynb#W4sZmlsZQ%3D%3D?line=17'>18</a>\u001b[0m     \u001b[39mif\u001b[39;00m (page\u001b[39m.\u001b[39mstatus_code \u001b[39m==\u001b[39m \u001b[39m200\u001b[39m):\n\u001b[0;32m     <a href='vscode-notebook-cell:/c%3A/Users/denis/Downloads/%D0%9F%D0%9821-4%20%D0%95%D1%80%D0%B5%D0%BC%D0%B5%D0%B5%D0%B2%20%D0%9B%D0%B0%D0%B11%20%28%E2%84%961-3%29.ipynb#W4sZmlsZQ%3D%3D?line=18'>19</a>\u001b[0m         content \u001b[39m=\u001b[39m result\u001b[39m.\u001b[39mtext\n",
      "\u001b[1;31mNameError\u001b[0m: name 'root' is not defined"
     ]
    }
   ],
   "source": [
    "i = 1\n",
    "page = requests.get(f'https://www.banki.ru/insurance/responses/list/?is_countable=on&page={i}&isMobile=0')\n",
    "with open ('banks_all_pages11.json', 'a+', encoding=\"utf-8\") as file:\n",
    "    while (page.status_code == 200):\n",
    "        content = page.text\n",
    "        soup = BeautifulSoup(content, \"lxml\")\n",
    "        #поиск всех тегов \"article\" с классом \"responses__item\" в HTML-контенте\n",
    "        allfd = soup.find_all('article', class_=\"responses__item\")\n",
    "\n",
    "        # воспользуемся циклом, чтобы получить все необходимые ссылки\n",
    "        links = []\n",
    "        for href in allfd:\n",
    "            links.append(href.find('a', href=True)['href'])\n",
    "        \n",
    "        #Пройдёмся по каждой ссылке в цикле и сохраним информацию \n",
    "        for link in links:\n",
    "            result = requests.get(f'{root}{link}')\n",
    "            if (page.status_code == 200):\n",
    "                content = result.text\n",
    "                soup = BeautifulSoup(content, 'lxml')\n",
    "                comp = soup.find('div', class_='header-h2 display-inline margin-right-x-small').get_text(strip=True, separator=' ')\n",
    "                mark = soup.find('div', class_='flexbox flexbox--inline flexbox--row flexbox--gap_xsmall flexbox--align-items_baseline').get_text(strip=True, separator=' ')\n",
    "                fd = soup.find('div', class_='article-text response-page__text markup-inside-small markup-inside-small--bullet').get_text(strip=True, separator=' ')\n",
    "                title = soup.find('h1').get_text(strip=True, separator=' ')\n",
    "                json.dump({'company': comp, 'mark': mark,'title': title,'review': fd}, file, ensure_ascii=False, indent=4)\n",
    "        i += 1\n",
    "        if i>=40:\n",
    "            break\n",
    "        page = requests.get(f'https://www.banki.ru/insurance/responses/list/?is_countable=on&page={i}&isMobile=0')"
   ]
  },
  {
   "cell_type": "code",
   "execution_count": 1,
   "metadata": {},
   "outputs": [],
   "source": [
    "import pandas as pd\n",
    "import json"
   ]
  },
  {
   "cell_type": "code",
   "execution_count": 2,
   "metadata": {},
   "outputs": [],
   "source": [
    "#открываем json затем с помощью pandas переводим его в DataFrame\n",
    "with open(\"C:/Users/denis/Desktop/1/banks_all_pages11.json\", 'r', encoding='utf-8-sig') as datafile:\n",
    "        data = json.load(datafile)\n",
    "df = pd.DataFrame(data)"
   ]
  },
  {
   "cell_type": "code",
   "execution_count": 3,
   "metadata": {},
   "outputs": [
    {
     "data": {
      "text/plain": [
       "(928, 4)"
      ]
     },
     "execution_count": 3,
     "metadata": {},
     "output_type": "execute_result"
    }
   ],
   "source": [
    "#размер датасета\n",
    "df.shape"
   ]
  },
  {
   "cell_type": "code",
   "execution_count": 4,
   "metadata": {},
   "outputs": [
    {
     "data": {
      "text/html": [
       "<div>\n",
       "<style scoped>\n",
       "    .dataframe tbody tr th:only-of-type {\n",
       "        vertical-align: middle;\n",
       "    }\n",
       "\n",
       "    .dataframe tbody tr th {\n",
       "        vertical-align: top;\n",
       "    }\n",
       "\n",
       "    .dataframe thead th {\n",
       "        text-align: right;\n",
       "    }\n",
       "</style>\n",
       "<table border=\"1\" class=\"dataframe\">\n",
       "  <thead>\n",
       "    <tr style=\"text-align: right;\">\n",
       "      <th></th>\n",
       "      <th>company</th>\n",
       "      <th>mark</th>\n",
       "      <th>title</th>\n",
       "      <th>review</th>\n",
       "    </tr>\n",
       "  </thead>\n",
       "  <tbody>\n",
       "    <tr>\n",
       "      <th>0</th>\n",
       "      <td>ВСК</td>\n",
       "      <td>Оценка: 3</td>\n",
       "      <td>Проблема с выбором СТОА</td>\n",
       "      <td>С начала августа не могу получить направление,...</td>\n",
       "    </tr>\n",
       "    <tr>\n",
       "      <th>1</th>\n",
       "      <td>ВСК</td>\n",
       "      <td>Оценка: 1</td>\n",
       "      <td>Обманным путем оформили договор без самого дог...</td>\n",
       "      <td>Добрый день. 27.08.2023 я оформила кредит в М....</td>\n",
       "    </tr>\n",
       "    <tr>\n",
       "      <th>2</th>\n",
       "      <td>Тинькофф Страхование</td>\n",
       "      <td>Оценка: 1</td>\n",
       "      <td>Страхование задолженности при потере работы</td>\n",
       "      <td>Добрый день! Моя кредитная карта Тинькофф Блэк...</td>\n",
       "    </tr>\n",
       "    <tr>\n",
       "      <th>3</th>\n",
       "      <td>Тинькофф Страхование</td>\n",
       "      <td>Оценка: 1</td>\n",
       "      <td>Прождал больше недели, никто не перезвонил</td>\n",
       "      <td>Добрый вечер. Больше недели назад обратился за...</td>\n",
       "    </tr>\n",
       "    <tr>\n",
       "      <th>4</th>\n",
       "      <td>Тинькофф Страхование</td>\n",
       "      <td>Оценка: 2</td>\n",
       "      <td>Передача события от менеджера к менеджеру. Нев...</td>\n",
       "      <td>Попал в ДТП не по своей вине. Заполнил заявку ...</td>\n",
       "    </tr>\n",
       "  </tbody>\n",
       "</table>\n",
       "</div>"
      ],
      "text/plain": [
       "                company       mark  \\\n",
       "0                   ВСК  Оценка: 3   \n",
       "1                   ВСК  Оценка: 1   \n",
       "2  Тинькофф Страхование  Оценка: 1   \n",
       "3  Тинькофф Страхование  Оценка: 1   \n",
       "4  Тинькофф Страхование  Оценка: 2   \n",
       "\n",
       "                                               title  \\\n",
       "0                            Проблема с выбором СТОА   \n",
       "1  Обманным путем оформили договор без самого дог...   \n",
       "2        Страхование задолженности при потере работы   \n",
       "3         Прождал больше недели, никто не перезвонил   \n",
       "4  Передача события от менеджера к менеджеру. Нев...   \n",
       "\n",
       "                                              review  \n",
       "0  С начала августа не могу получить направление,...  \n",
       "1  Добрый день. 27.08.2023 я оформила кредит в М....  \n",
       "2  Добрый день! Моя кредитная карта Тинькофф Блэк...  \n",
       "3  Добрый вечер. Больше недели назад обратился за...  \n",
       "4  Попал в ДТП не по своей вине. Заполнил заявку ...  "
      ]
     },
     "execution_count": 4,
     "metadata": {},
     "output_type": "execute_result"
    }
   ],
   "source": [
    "df.head()"
   ]
  },
  {
   "cell_type": "code",
   "execution_count": 5,
   "metadata": {},
   "outputs": [],
   "source": [
    " import re"
   ]
  },
  {
   "cell_type": "code",
   "execution_count": 6,
   "metadata": {},
   "outputs": [],
   "source": [
    "#функция, которая оставляет только оценку (цифру)\n",
    "def only_num(x):\n",
    "    x = re.sub('\\D', '', x)\n",
    "    return x[0]"
   ]
  },
  {
   "cell_type": "code",
   "execution_count": 7,
   "metadata": {},
   "outputs": [],
   "source": [
    "df['mark'] = df['mark'].apply(only_num)"
   ]
  },
  {
   "cell_type": "code",
   "execution_count": 8,
   "metadata": {},
   "outputs": [
    {
     "data": {
      "text/html": [
       "<div>\n",
       "<style scoped>\n",
       "    .dataframe tbody tr th:only-of-type {\n",
       "        vertical-align: middle;\n",
       "    }\n",
       "\n",
       "    .dataframe tbody tr th {\n",
       "        vertical-align: top;\n",
       "    }\n",
       "\n",
       "    .dataframe thead th {\n",
       "        text-align: right;\n",
       "    }\n",
       "</style>\n",
       "<table border=\"1\" class=\"dataframe\">\n",
       "  <thead>\n",
       "    <tr style=\"text-align: right;\">\n",
       "      <th></th>\n",
       "      <th>company</th>\n",
       "      <th>mark</th>\n",
       "      <th>title</th>\n",
       "      <th>review</th>\n",
       "    </tr>\n",
       "  </thead>\n",
       "  <tbody>\n",
       "    <tr>\n",
       "      <th>0</th>\n",
       "      <td>ВСК</td>\n",
       "      <td>3</td>\n",
       "      <td>Проблема с выбором СТОА</td>\n",
       "      <td>С начала августа не могу получить направление,...</td>\n",
       "    </tr>\n",
       "    <tr>\n",
       "      <th>1</th>\n",
       "      <td>ВСК</td>\n",
       "      <td>1</td>\n",
       "      <td>Обманным путем оформили договор без самого дог...</td>\n",
       "      <td>Добрый день. 27.08.2023 я оформила кредит в М....</td>\n",
       "    </tr>\n",
       "    <tr>\n",
       "      <th>2</th>\n",
       "      <td>Тинькофф Страхование</td>\n",
       "      <td>1</td>\n",
       "      <td>Страхование задолженности при потере работы</td>\n",
       "      <td>Добрый день! Моя кредитная карта Тинькофф Блэк...</td>\n",
       "    </tr>\n",
       "    <tr>\n",
       "      <th>3</th>\n",
       "      <td>Тинькофф Страхование</td>\n",
       "      <td>1</td>\n",
       "      <td>Прождал больше недели, никто не перезвонил</td>\n",
       "      <td>Добрый вечер. Больше недели назад обратился за...</td>\n",
       "    </tr>\n",
       "    <tr>\n",
       "      <th>4</th>\n",
       "      <td>Тинькофф Страхование</td>\n",
       "      <td>2</td>\n",
       "      <td>Передача события от менеджера к менеджеру. Нев...</td>\n",
       "      <td>Попал в ДТП не по своей вине. Заполнил заявку ...</td>\n",
       "    </tr>\n",
       "    <tr>\n",
       "      <th>...</th>\n",
       "      <td>...</td>\n",
       "      <td>...</td>\n",
       "      <td>...</td>\n",
       "      <td>...</td>\n",
       "    </tr>\n",
       "    <tr>\n",
       "      <th>923</th>\n",
       "      <td>Тинькофф Страхование</td>\n",
       "      <td>5</td>\n",
       "      <td>Выплата после ДТП</td>\n",
       "      <td>Добрый день. Хотельбы написать отзыв о тинькоф...</td>\n",
       "    </tr>\n",
       "    <tr>\n",
       "      <th>924</th>\n",
       "      <td>АльфаСтрахование</td>\n",
       "      <td>1</td>\n",
       "      <td>Невозможно оформить полис</td>\n",
       "      <td>Пытаюсь оформить полис ОСАГО, при расчёте стои...</td>\n",
       "    </tr>\n",
       "    <tr>\n",
       "      <th>925</th>\n",
       "      <td>Совкомбанк Страхование</td>\n",
       "      <td>5</td>\n",
       "      <td>Совкомбанк Страхование</td>\n",
       "      <td>Потребовалось изменить полис Осаго, необходимо...</td>\n",
       "    </tr>\n",
       "    <tr>\n",
       "      <th>926</th>\n",
       "      <td>Сбербанк страхование жизни</td>\n",
       "      <td>1</td>\n",
       "      <td>Не могу разорвать договор и вернуть деньги по ...</td>\n",
       "      <td>В 2018 году, обманув про условия расторжения д...</td>\n",
       "    </tr>\n",
       "    <tr>\n",
       "      <th>927</th>\n",
       "      <td>Тинькофф Страхование</td>\n",
       "      <td>5</td>\n",
       "      <td>Тинькофф Страхование</td>\n",
       "      <td>Покупал полис ОСАГО в ТинькоффСтрахование, ост...</td>\n",
       "    </tr>\n",
       "  </tbody>\n",
       "</table>\n",
       "<p>928 rows × 4 columns</p>\n",
       "</div>"
      ],
      "text/plain": [
       "                        company mark  \\\n",
       "0                           ВСК    3   \n",
       "1                           ВСК    1   \n",
       "2          Тинькофф Страхование    1   \n",
       "3          Тинькофф Страхование    1   \n",
       "4          Тинькофф Страхование    2   \n",
       "..                          ...  ...   \n",
       "923        Тинькофф Страхование    5   \n",
       "924            АльфаСтрахование    1   \n",
       "925      Совкомбанк Страхование    5   \n",
       "926  Сбербанк страхование жизни    1   \n",
       "927        Тинькофф Страхование    5   \n",
       "\n",
       "                                                 title  \\\n",
       "0                              Проблема с выбором СТОА   \n",
       "1    Обманным путем оформили договор без самого дог...   \n",
       "2          Страхование задолженности при потере работы   \n",
       "3           Прождал больше недели, никто не перезвонил   \n",
       "4    Передача события от менеджера к менеджеру. Нев...   \n",
       "..                                                 ...   \n",
       "923                                  Выплата после ДТП   \n",
       "924                          Невозможно оформить полис   \n",
       "925                             Совкомбанк Страхование   \n",
       "926  Не могу разорвать договор и вернуть деньги по ...   \n",
       "927                               Тинькофф Страхование   \n",
       "\n",
       "                                                review  \n",
       "0    С начала августа не могу получить направление,...  \n",
       "1    Добрый день. 27.08.2023 я оформила кредит в М....  \n",
       "2    Добрый день! Моя кредитная карта Тинькофф Блэк...  \n",
       "3    Добрый вечер. Больше недели назад обратился за...  \n",
       "4    Попал в ДТП не по своей вине. Заполнил заявку ...  \n",
       "..                                                 ...  \n",
       "923  Добрый день. Хотельбы написать отзыв о тинькоф...  \n",
       "924  Пытаюсь оформить полис ОСАГО, при расчёте стои...  \n",
       "925  Потребовалось изменить полис Осаго, необходимо...  \n",
       "926  В 2018 году, обманув про условия расторжения д...  \n",
       "927  Покупал полис ОСАГО в ТинькоффСтрахование, ост...  \n",
       "\n",
       "[928 rows x 4 columns]"
      ]
     },
     "execution_count": 8,
     "metadata": {},
     "output_type": "execute_result"
    }
   ],
   "source": [
    "df"
   ]
  },
  {
   "cell_type": "code",
   "execution_count": 9,
   "metadata": {},
   "outputs": [
    {
     "name": "stdout",
     "output_type": "stream",
     "text": [
      "<class 'pandas.core.frame.DataFrame'>\n",
      "RangeIndex: 928 entries, 0 to 927\n",
      "Data columns (total 4 columns):\n",
      " #   Column   Non-Null Count  Dtype \n",
      "---  ------   --------------  ----- \n",
      " 0   company  928 non-null    object\n",
      " 1   mark     928 non-null    object\n",
      " 2   title    928 non-null    object\n",
      " 3   review   928 non-null    object\n",
      "dtypes: object(4)\n",
      "memory usage: 29.1+ KB\n"
     ]
    }
   ],
   "source": [
    "#нулевых значений нет\n",
    "df.info()"
   ]
  },
  {
   "cell_type": "code",
   "execution_count": 10,
   "metadata": {},
   "outputs": [],
   "source": [
    "df['company'] = df['company'].astype(str)\n",
    "df['title'] = df['title'].astype(str)\n",
    "df['review'] = df['review'].astype(str)\n",
    "df['mark'] = df['mark'].astype(int)"
   ]
  },
  {
   "cell_type": "code",
   "execution_count": 11,
   "metadata": {},
   "outputs": [],
   "source": [
    "import seaborn as sns"
   ]
  },
  {
   "cell_type": "code",
   "execution_count": 12,
   "metadata": {},
   "outputs": [
    {
     "data": {
      "text/plain": [
       "1    435\n",
       "5    422\n",
       "2     42\n",
       "3     22\n",
       "4      7\n",
       "Name: mark, dtype: int64"
      ]
     },
     "execution_count": 12,
     "metadata": {},
     "output_type": "execute_result"
    }
   ],
   "source": [
    "df['mark'].value_counts()"
   ]
  },
  {
   "cell_type": "markdown",
   "metadata": {},
   "source": [
    "Больше всего отзывов с оценкой 5 или 1. "
   ]
  },
  {
   "cell_type": "code",
   "execution_count": 13,
   "metadata": {},
   "outputs": [
    {
     "data": {
      "text/plain": [
       "[Text(0, 0.5, 'количество отзывов')]"
      ]
     },
     "execution_count": 13,
     "metadata": {},
     "output_type": "execute_result"
    },
    {
     "data": {
      "image/png": "[encoded data removed]",
      "text/plain": [
       "<Figure size 640x480 with 1 Axes>"
      ]
     },
     "metadata": {},
     "output_type": "display_data"
    }
   ],
   "source": [
    "axx = sns.histplot(data=df, x=\"mark\")\n",
    "axx.set(xlabel='оценка')\n",
    "axx.set(ylabel='количество отзывов')"
   ]
  },
  {
   "cell_type": "code",
   "execution_count": 14,
   "metadata": {},
   "outputs": [],
   "source": [
    "df['company'].value_counts()\n",
    "comp = df['company'].unique()"
   ]
  },
  {
   "cell_type": "code",
   "execution_count": 15,
   "metadata": {},
   "outputs": [],
   "source": [
    "comp_mark = {}"
   ]
  },
  {
   "cell_type": "code",
   "execution_count": 16,
   "metadata": {},
   "outputs": [],
   "source": [
    "for company in comp[:5]:\n",
    "    comp_mark[company] = df[df['company'] == company]['mark'].mean()"
   ]
  },
  {
   "cell_type": "code",
   "execution_count": 21,
   "metadata": {},
   "outputs": [
    {
     "data": {
      "text/plain": [
       "[Text(0.5, 0, 'Компании'), Text(0.5, 1.0, 'средняя оценка')]"
      ]
     },
     "execution_count": 21,
     "metadata": {},
     "output_type": "execute_result"
    },
    {
     "data": {
      "image/png": "[encoded data removed]",
      "text/plain": [
       "<Figure size 640x480 with 1 Axes>"
      ]
     },
     "metadata": {},
     "output_type": "display_data"
    }
   ],
   "source": [
    "my_df = pd.DataFrame(comp_mark.items())\n",
    "ax = sns.barplot(x=0, y=1, data=my_df)\n",
    "ax.set_xticklabels(ax.get_xticklabels(), rotation=30)\n",
    "ax.set(xlabel = 'Компании',  title='средняя оценка')"
   ]
  },
  {
   "cell_type": "markdown",
   "metadata": {},
   "source": [
    "Проведем анализ оценок топовых банков:"
   ]
  },
  {
   "cell_type": "code",
   "execution_count": 18,
   "metadata": {},
   "outputs": [
    {
     "data": {
      "text/plain": [
       "[Text(0, 0.5, 'количество отзывов')]"
      ]
     },
     "execution_count": 18,
     "metadata": {},
     "output_type": "execute_result"
    },
    {
     "data": {
      "image/png": "[encoded data removed]",
      "text/plain": [
       "<Figure size 640x480 with 1 Axes>"
      ]
     },
     "metadata": {},
     "output_type": "display_data"
    }
   ],
   "source": [
    "ax = sns.histplot(data=df[df['company'] == 'Тинькофф Страхование'], x=\"mark\" )\n",
    "ax.set(xlabel='Тинькофф Страхование')\n",
    "ax.set(ylabel='количество отзывов')"
   ]
  },
  {
   "cell_type": "code",
   "execution_count": 19,
   "metadata": {},
   "outputs": [
    {
     "data": {
      "text/plain": [
       "[Text(0, 0.5, 'количество отзывов')]"
      ]
     },
     "execution_count": 19,
     "metadata": {},
     "output_type": "execute_result"
    },
    {
     "data": {
      "image/png": "[encoded data removed]",
      "text/plain": [
       "<Figure size 640x480 with 1 Axes>"
      ]
     },
     "metadata": {},
     "output_type": "display_data"
    }
   ],
   "source": [
    "ax1 = sns.histplot(data=df[df['company'] == 'Совкомбанк Страхование'], x=\"mark\")\n",
    "ax1.set(xlabel='Совкомбанк Страхование')\n",
    "ax1.set(ylabel='количество отзывов')"
   ]
  },
  {
   "cell_type": "code",
   "execution_count": 20,
   "metadata": {},
   "outputs": [
    {
     "data": {
      "text/plain": [
       "[Text(0, 0.5, 'количество отзывов')]"
      ]
     },
     "execution_count": 20,
     "metadata": {},
     "output_type": "execute_result"
    },
    {
     "data": {
      "image/png": "[encoded data removed]",
      "text/plain": [
       "<Figure size 640x480 with 1 Axes>"
      ]
     },
     "metadata": {},
     "output_type": "display_data"
    }
   ],
   "source": [
    "ax2 = sns.histplot(data=df[df['company'] == 'АльфаСтрахование'], x=\"mark\")\n",
    "ax2.set(xlabel='АльфаСтрахование')\n",
    "ax2.set(ylabel='количество отзывов')"
   ]
  },
  {
   "cell_type": "code",
   "execution_count": 21,
   "metadata": {},
   "outputs": [
    {
     "data": {
      "text/html": [
       "<div>\n",
       "<style scoped>\n",
       "    .dataframe tbody tr th:only-of-type {\n",
       "        vertical-align: middle;\n",
       "    }\n",
       "\n",
       "    .dataframe tbody tr th {\n",
       "        vertical-align: top;\n",
       "    }\n",
       "\n",
       "    .dataframe thead th {\n",
       "        text-align: right;\n",
       "    }\n",
       "</style>\n",
       "<table border=\"1\" class=\"dataframe\">\n",
       "  <thead>\n",
       "    <tr style=\"text-align: right;\">\n",
       "      <th></th>\n",
       "      <th>mark</th>\n",
       "      <th>review</th>\n",
       "    </tr>\n",
       "  </thead>\n",
       "  <tbody>\n",
       "    <tr>\n",
       "      <th>0</th>\n",
       "      <td>3</td>\n",
       "      <td>ВСК Проблема с выбором СТОА С начала августа н...</td>\n",
       "    </tr>\n",
       "    <tr>\n",
       "      <th>1</th>\n",
       "      <td>1</td>\n",
       "      <td>ВСК Обманным путем оформили договор без самого...</td>\n",
       "    </tr>\n",
       "    <tr>\n",
       "      <th>2</th>\n",
       "      <td>1</td>\n",
       "      <td>Тинькофф Страхование Страхование задолженности...</td>\n",
       "    </tr>\n",
       "    <tr>\n",
       "      <th>3</th>\n",
       "      <td>1</td>\n",
       "      <td>Тинькофф Страхование Прождал больше недели, ни...</td>\n",
       "    </tr>\n",
       "    <tr>\n",
       "      <th>4</th>\n",
       "      <td>2</td>\n",
       "      <td>Тинькофф Страхование Передача события от менед...</td>\n",
       "    </tr>\n",
       "    <tr>\n",
       "      <th>...</th>\n",
       "      <td>...</td>\n",
       "      <td>...</td>\n",
       "    </tr>\n",
       "    <tr>\n",
       "      <th>923</th>\n",
       "      <td>5</td>\n",
       "      <td>Тинькофф Страхование Выплата после ДТП Добрый ...</td>\n",
       "    </tr>\n",
       "    <tr>\n",
       "      <th>924</th>\n",
       "      <td>1</td>\n",
       "      <td>АльфаСтрахование Невозможно оформить полис Пыт...</td>\n",
       "    </tr>\n",
       "    <tr>\n",
       "      <th>925</th>\n",
       "      <td>5</td>\n",
       "      <td>Совкомбанк Страхование Совкомбанк Страхование ...</td>\n",
       "    </tr>\n",
       "    <tr>\n",
       "      <th>926</th>\n",
       "      <td>1</td>\n",
       "      <td>Сбербанк страхование жизни Не могу разорвать д...</td>\n",
       "    </tr>\n",
       "    <tr>\n",
       "      <th>927</th>\n",
       "      <td>5</td>\n",
       "      <td>Тинькофф Страхование Тинькофф Страхование Поку...</td>\n",
       "    </tr>\n",
       "  </tbody>\n",
       "</table>\n",
       "<p>928 rows × 2 columns</p>\n",
       "</div>"
      ],
      "text/plain": [
       "     mark                                             review\n",
       "0       3  ВСК Проблема с выбором СТОА С начала августа н...\n",
       "1       1  ВСК Обманным путем оформили договор без самого...\n",
       "2       1  Тинькофф Страхование Страхование задолженности...\n",
       "3       1  Тинькофф Страхование Прождал больше недели, ни...\n",
       "4       2  Тинькофф Страхование Передача события от менед...\n",
       "..    ...                                                ...\n",
       "923     5  Тинькофф Страхование Выплата после ДТП Добрый ...\n",
       "924     1  АльфаСтрахование Невозможно оформить полис Пыт...\n",
       "925     5  Совкомбанк Страхование Совкомбанк Страхование ...\n",
       "926     1  Сбербанк страхование жизни Не могу разорвать д...\n",
       "927     5  Тинькофф Страхование Тинькофф Страхование Поку...\n",
       "\n",
       "[928 rows x 2 columns]"
      ]
     },
     "execution_count": 21,
     "metadata": {},
     "output_type": "execute_result"
    }
   ],
   "source": [
    "df['review'] = df['company']+' '+df['title']+' '+df['review']\n",
    "df = df.drop(columns=['company', 'title'])\n",
    "df"
   ]
  },
  {
   "cell_type": "code",
   "execution_count": 22,
   "metadata": {},
   "outputs": [],
   "source": [
    "\n",
    "from nltk.corpus import stopwords"
   ]
  },
  {
   "cell_type": "code",
   "execution_count": 23,
   "metadata": {},
   "outputs": [],
   "source": [
    "df['review'] = df['review'].str.replace(r\"\\([^()]*\\)\", \" \", regex=True).str.replace(r'[^\\w\\s]+', ' ',regex=True).str.lower()"
   ]
  },
  {
   "cell_type": "code",
   "execution_count": 24,
   "metadata": {},
   "outputs": [
    {
     "data": {
      "text/html": [
       "<div>\n",
       "<style scoped>\n",
       "    .dataframe tbody tr th:only-of-type {\n",
       "        vertical-align: middle;\n",
       "    }\n",
       "\n",
       "    .dataframe tbody tr th {\n",
       "        vertical-align: top;\n",
       "    }\n",
       "\n",
       "    .dataframe thead th {\n",
       "        text-align: right;\n",
       "    }\n",
       "</style>\n",
       "<table border=\"1\" class=\"dataframe\">\n",
       "  <thead>\n",
       "    <tr style=\"text-align: right;\">\n",
       "      <th></th>\n",
       "      <th>mark</th>\n",
       "      <th>review</th>\n",
       "    </tr>\n",
       "  </thead>\n",
       "  <tbody>\n",
       "    <tr>\n",
       "      <th>0</th>\n",
       "      <td>3</td>\n",
       "      <td>вск проблема с выбором стоа с начала августа н...</td>\n",
       "    </tr>\n",
       "    <tr>\n",
       "      <th>1</th>\n",
       "      <td>1</td>\n",
       "      <td>вск обманным путем оформили договор без самого...</td>\n",
       "    </tr>\n",
       "    <tr>\n",
       "      <th>2</th>\n",
       "      <td>1</td>\n",
       "      <td>тинькофф страхование страхование задолженности...</td>\n",
       "    </tr>\n",
       "    <tr>\n",
       "      <th>3</th>\n",
       "      <td>1</td>\n",
       "      <td>тинькофф страхование прождал больше недели  ни...</td>\n",
       "    </tr>\n",
       "    <tr>\n",
       "      <th>4</th>\n",
       "      <td>2</td>\n",
       "      <td>тинькофф страхование передача события от менед...</td>\n",
       "    </tr>\n",
       "    <tr>\n",
       "      <th>...</th>\n",
       "      <td>...</td>\n",
       "      <td>...</td>\n",
       "    </tr>\n",
       "    <tr>\n",
       "      <th>923</th>\n",
       "      <td>5</td>\n",
       "      <td>тинькофф страхование выплата после дтп добрый ...</td>\n",
       "    </tr>\n",
       "    <tr>\n",
       "      <th>924</th>\n",
       "      <td>1</td>\n",
       "      <td>альфастрахование невозможно оформить полис пыт...</td>\n",
       "    </tr>\n",
       "    <tr>\n",
       "      <th>925</th>\n",
       "      <td>5</td>\n",
       "      <td>совкомбанк страхование совкомбанк страхование ...</td>\n",
       "    </tr>\n",
       "    <tr>\n",
       "      <th>926</th>\n",
       "      <td>1</td>\n",
       "      <td>сбербанк страхование жизни не могу разорвать д...</td>\n",
       "    </tr>\n",
       "    <tr>\n",
       "      <th>927</th>\n",
       "      <td>5</td>\n",
       "      <td>тинькофф страхование тинькофф страхование поку...</td>\n",
       "    </tr>\n",
       "  </tbody>\n",
       "</table>\n",
       "<p>928 rows × 2 columns</p>\n",
       "</div>"
      ],
      "text/plain": [
       "     mark                                             review\n",
       "0       3  вск проблема с выбором стоа с начала августа н...\n",
       "1       1  вск обманным путем оформили договор без самого...\n",
       "2       1  тинькофф страхование страхование задолженности...\n",
       "3       1  тинькофф страхование прождал больше недели  ни...\n",
       "4       2  тинькофф страхование передача события от менед...\n",
       "..    ...                                                ...\n",
       "923     5  тинькофф страхование выплата после дтп добрый ...\n",
       "924     1  альфастрахование невозможно оформить полис пыт...\n",
       "925     5  совкомбанк страхование совкомбанк страхование ...\n",
       "926     1  сбербанк страхование жизни не могу разорвать д...\n",
       "927     5  тинькофф страхование тинькофф страхование поку...\n",
       "\n",
       "[928 rows x 2 columns]"
      ]
     },
     "execution_count": 24,
     "metadata": {},
     "output_type": "execute_result"
    }
   ],
   "source": [
    "df"
   ]
  },
  {
   "cell_type": "code",
   "execution_count": 25,
   "metadata": {},
   "outputs": [],
   "source": [
    "\n",
    "from nltk.corpus import stopwords\n",
    "from nltk.tokenize import word_tokenize \n",
    "stop_words = set(stopwords.words('russian'))"
   ]
  },
  {
   "cell_type": "code",
   "execution_count": 26,
   "metadata": {},
   "outputs": [],
   "source": [
    "def stop_words_delete(text):\n",
    "    filtered_sentence = ''\n",
    "    for w in text.split(): \n",
    "        if w not in stop_words: \n",
    "            filtered_sentence += ' '+w\n",
    "    return filtered_sentence"
   ]
  },
  {
   "cell_type": "code",
   "execution_count": 27,
   "metadata": {},
   "outputs": [],
   "source": [
    "df['review'] = df['review'].apply(stop_words_delete)"
   ]
  },
  {
   "cell_type": "code",
   "execution_count": 28,
   "metadata": {},
   "outputs": [
    {
     "data": {
      "text/html": [
       "<div>\n",
       "<style scoped>\n",
       "    .dataframe tbody tr th:only-of-type {\n",
       "        vertical-align: middle;\n",
       "    }\n",
       "\n",
       "    .dataframe tbody tr th {\n",
       "        vertical-align: top;\n",
       "    }\n",
       "\n",
       "    .dataframe thead th {\n",
       "        text-align: right;\n",
       "    }\n",
       "</style>\n",
       "<table border=\"1\" class=\"dataframe\">\n",
       "  <thead>\n",
       "    <tr style=\"text-align: right;\">\n",
       "      <th></th>\n",
       "      <th>mark</th>\n",
       "      <th>review</th>\n",
       "    </tr>\n",
       "  </thead>\n",
       "  <tbody>\n",
       "    <tr>\n",
       "      <th>0</th>\n",
       "      <td>3</td>\n",
       "      <td>вск проблема выбором стоа начала августа могу...</td>\n",
       "    </tr>\n",
       "    <tr>\n",
       "      <th>1</th>\n",
       "      <td>1</td>\n",
       "      <td>вск обманным путем оформили договор самого до...</td>\n",
       "    </tr>\n",
       "    <tr>\n",
       "      <th>2</th>\n",
       "      <td>1</td>\n",
       "      <td>тинькофф страхование страхование задолженност...</td>\n",
       "    </tr>\n",
       "    <tr>\n",
       "      <th>3</th>\n",
       "      <td>1</td>\n",
       "      <td>тинькофф страхование прождал недели никто пер...</td>\n",
       "    </tr>\n",
       "    <tr>\n",
       "      <th>4</th>\n",
       "      <td>2</td>\n",
       "      <td>тинькофф страхование передача события менедже...</td>\n",
       "    </tr>\n",
       "    <tr>\n",
       "      <th>...</th>\n",
       "      <td>...</td>\n",
       "      <td>...</td>\n",
       "    </tr>\n",
       "    <tr>\n",
       "      <th>923</th>\n",
       "      <td>5</td>\n",
       "      <td>тинькофф страхование выплата дтп добрый день ...</td>\n",
       "    </tr>\n",
       "    <tr>\n",
       "      <th>924</th>\n",
       "      <td>1</td>\n",
       "      <td>альфастрахование невозможно оформить полис пы...</td>\n",
       "    </tr>\n",
       "    <tr>\n",
       "      <th>925</th>\n",
       "      <td>5</td>\n",
       "      <td>совкомбанк страхование совкомбанк страхование...</td>\n",
       "    </tr>\n",
       "    <tr>\n",
       "      <th>926</th>\n",
       "      <td>1</td>\n",
       "      <td>сбербанк страхование жизни могу разорвать дог...</td>\n",
       "    </tr>\n",
       "    <tr>\n",
       "      <th>927</th>\n",
       "      <td>5</td>\n",
       "      <td>тинькофф страхование тинькофф страхование пок...</td>\n",
       "    </tr>\n",
       "  </tbody>\n",
       "</table>\n",
       "<p>928 rows × 2 columns</p>\n",
       "</div>"
      ],
      "text/plain": [
       "     mark                                             review\n",
       "0       3   вск проблема выбором стоа начала августа могу...\n",
       "1       1   вск обманным путем оформили договор самого до...\n",
       "2       1   тинькофф страхование страхование задолженност...\n",
       "3       1   тинькофф страхование прождал недели никто пер...\n",
       "4       2   тинькофф страхование передача события менедже...\n",
       "..    ...                                                ...\n",
       "923     5   тинькофф страхование выплата дтп добрый день ...\n",
       "924     1   альфастрахование невозможно оформить полис пы...\n",
       "925     5   совкомбанк страхование совкомбанк страхование...\n",
       "926     1   сбербанк страхование жизни могу разорвать дог...\n",
       "927     5   тинькофф страхование тинькофф страхование пок...\n",
       "\n",
       "[928 rows x 2 columns]"
      ]
     },
     "execution_count": 28,
     "metadata": {},
     "output_type": "execute_result"
    }
   ],
   "source": [
    "df"
   ]
  },
  {
   "cell_type": "code",
   "execution_count": 29,
   "metadata": {},
   "outputs": [],
   "source": [
    "import matplotlib.pyplot as plt"
   ]
  },
  {
   "cell_type": "markdown",
   "metadata": {},
   "source": [
    "Посмотрим равенство классов:"
   ]
  },
  {
   "cell_type": "code",
   "execution_count": 30,
   "metadata": {},
   "outputs": [
    {
     "data": {
      "image/png": "[encoded data removed]",
      "text/plain": [
       "<Figure size 1000x700 with 1 Axes>"
      ]
     },
     "metadata": {},
     "output_type": "display_data"
    }
   ],
   "source": [
    "fig = plt.figure(figsize =(10, 7))\n",
    "plt.pie(df['mark'].value_counts(), labels=df['mark'].value_counts().index, autopct='%1.1f%%')\n",
    " \n",
    "# show plot\n",
    "plt.show()"
   ]
  },
  {
   "cell_type": "code",
   "execution_count": 31,
   "metadata": {},
   "outputs": [],
   "source": [
    "from sklearn.model_selection import train_test_split"
   ]
  },
  {
   "cell_type": "code",
   "execution_count": 32,
   "metadata": {},
   "outputs": [],
   "source": [
    "X = df['review']\n",
    "y = df['mark']"
   ]
  },
  {
   "cell_type": "markdown",
   "metadata": {},
   "source": [
    "Попробуем убрать разбалансировку классов"
   ]
  },
  {
   "cell_type": "code",
   "execution_count": 33,
   "metadata": {},
   "outputs": [
    {
     "data": {
      "text/plain": [
       "(2175, 1)"
      ]
     },
     "execution_count": 33,
     "metadata": {},
     "output_type": "execute_result"
    }
   ],
   "source": [
    "from imblearn.over_sampling import RandomOverSampler\n",
    "\n",
    "oversampler = RandomOverSampler(sampling_strategy=\"not majority\")\n",
    "\n",
    "oversampled_data, oversampled_target = oversampler.fit_resample(X.values.reshape(-1,1), y.values.reshape(-1,1))\n",
    "\n",
    "oversampled_data.shape"
   ]
  },
  {
   "cell_type": "code",
   "execution_count": 34,
   "metadata": {},
   "outputs": [
    {
     "data": {
      "text/plain": [
       "3    435\n",
       "1    435\n",
       "2    435\n",
       "5    435\n",
       "4    435\n",
       "dtype: int64"
      ]
     },
     "execution_count": 34,
     "metadata": {},
     "output_type": "execute_result"
    }
   ],
   "source": [
    "pd.Series(oversampled_target).value_counts()"
   ]
  },
  {
   "cell_type": "code",
   "execution_count": 35,
   "metadata": {},
   "outputs": [
    {
     "data": {
      "image/png": "[encoded data removed]",
      "text/plain": [
       "<Figure size 1000x700 with 1 Axes>"
      ]
     },
     "metadata": {},
     "output_type": "display_data"
    }
   ],
   "source": [
    "fig = plt.figure(figsize =(10, 7))\n",
    "plt.pie(pd.Series(oversampled_target).value_counts(), labels=pd.Series(oversampled_target).value_counts().index, autopct='%1.1f%%')\n",
    " \n",
    "# show plot\n",
    "plt.show()"
   ]
  },
  {
   "cell_type": "markdown",
   "metadata": {},
   "source": [
    "Приступим к обучению нашей модели:"
   ]
  },
  {
   "cell_type": "code",
   "execution_count": 37,
   "metadata": {},
   "outputs": [],
   "source": [
    "X_train, X_test, y_train, y_test = train_test_split(oversampled_data, oversampled_target, test_size=0.3, random_state=42)"
   ]
  },
  {
   "cell_type": "code",
   "execution_count": 58,
   "metadata": {},
   "outputs": [],
   "source": [
    "from sklearn.model_selection import train_test_split\n",
    "from sklearn.naive_bayes import MultinomialNB\n",
    "from sklearn.metrics import accuracy_score\n",
    "from sklearn.feature_extraction.text import TfidfVectorizer"
   ]
  },
  {
   "cell_type": "code",
   "execution_count": 86,
   "metadata": {},
   "outputs": [],
   "source": [
    "from sklearn.neural_network import MLPClassifier\n",
    "from sklearn import metrics"
   ]
  },
  {
   "cell_type": "code",
   "execution_count": 110,
   "metadata": {},
   "outputs": [],
   "source": [
    "tfidf_vectorizer = TfidfVectorizer()\n",
    "X_train_tfidf = tfidf_vectorizer.fit_transform(X_train.ravel())\n",
    "X_test_tfidf = tfidf_vectorizer.transform(X_test.ravel())\n"
   ]
  },
  {
   "cell_type": "code",
   "execution_count": 139,
   "metadata": {},
   "outputs": [
    {
     "name": "stdout",
     "output_type": "stream",
     "text": [
      "--- 0.0 seconds ---\n",
      "Модель MultinomialNB:\n",
      "              precision    recall  f1-score   support\n",
      "\n",
      "           1       0.99      0.52      0.68       143\n",
      "           2       0.73      1.00      0.85       119\n",
      "           3       0.87      1.00      0.93       129\n",
      "           4       0.96      1.00      0.98       139\n",
      "           5       0.95      0.95      0.95       123\n",
      "\n",
      "    accuracy                           0.89       653\n",
      "   macro avg       0.90      0.89      0.88       653\n",
      "weighted avg       0.91      0.89      0.87       653\n",
      "\n"
     ]
    },
    {
     "name": "stderr",
     "output_type": "stream",
     "text": [
      "c:\\Users\\denis\\AppData\\Local\\Programs\\Python\\Python39\\lib\\site-packages\\sklearn\\utils\\validation.py:1111: DataConversionWarning: A column-vector y was passed when a 1d array was expected. Please change the shape of y to (n_samples, ), for example using ravel().\n",
      "  y = column_or_1d(y, warn=True)\n"
     ]
    }
   ],
   "source": [
    "import time\n",
    "start_time = time.time()\n",
    "\n",
    "print(\"--- %s seconds ---\" % (time.time() - start_time))\n",
    "# Обучение модели классификации\n",
    "classifier = MultinomialNB()\n",
    "classifier.fit(X_train_tfidf, pd.DataFrame(y_train))\n",
    "\n",
    "# Предсказание категорий для тестовых данных\n",
    "y_pred = classifier.predict(X_test_tfidf)\n",
    "\n",
    "# Оценка точности модели\n",
    "accuracy_MNB = accuracy_score(pd.DataFrame(y_test), pd.DataFrame(y_pred))\n",
    "print(\"Модель MultinomialNB:\")\n",
    "print(metrics.classification_report(y_test, y_pred))\n",
    "\n",
    "time_MNB = time.time() - start_time"
   ]
  },
  {
   "cell_type": "code",
   "execution_count": 131,
   "metadata": {},
   "outputs": [
    {
     "name": "stderr",
     "output_type": "stream",
     "text": [
      "c:\\Users\\denis\\AppData\\Local\\Programs\\Python\\Python39\\lib\\site-packages\\sklearn\\neural_network\\_multilayer_perceptron.py:1118: DataConversionWarning: A column-vector y was passed when a 1d array was expected. Please change the shape of y to (n_samples, ), for example using ravel().\n",
      "  y = column_or_1d(y, warn=True)\n"
     ]
    },
    {
     "name": "stdout",
     "output_type": "stream",
     "text": [
      "Модель MLPClassifier:\n",
      "              precision    recall  f1-score   support\n",
      "\n",
      "           1       0.98      0.94      0.96       143\n",
      "           2       1.00      1.00      1.00       119\n",
      "           3       0.99      1.00      1.00       129\n",
      "           4       1.00      1.00      1.00       139\n",
      "           5       0.94      0.98      0.96       123\n",
      "\n",
      "    accuracy                           0.98       653\n",
      "   macro avg       0.98      0.98      0.98       653\n",
      "weighted avg       0.98      0.98      0.98       653\n",
      "\n"
     ]
    }
   ],
   "source": [
    "import time\n",
    "start_time = time.time()\n",
    "\n",
    "classifier = MLPClassifier()\n",
    "classifier.fit(X_train_tfidf, pd.DataFrame(y_train))\n",
    "\n",
    "# Предсказание категорий для тестовых данных\n",
    "y_pred = classifier.predict(X_test_tfidf)\n",
    "\n",
    "# Оценка точности модели\n",
    "accuracy_MLPC = accuracy_score(pd.DataFrame(y_test), pd.DataFrame(y_pred))\n",
    "print(\"Модель MLPClassifier:\")\n",
    "print(metrics.classification_report(y_test, y_pred))\n",
    "\n",
    "time_MLPC = time.time() - start_time"
   ]
  },
  {
   "cell_type": "code",
   "execution_count": 90,
   "metadata": {},
   "outputs": [
    {
     "name": "stdout",
     "output_type": "stream",
     "text": [
      "Learning rate set to 0.223593\n",
      "0:\tlearn: 1.4012163\ttotal: 84.2ms\tremaining: 25.2s\n",
      "1:\tlearn: 1.2615895\ttotal: 163ms\tremaining: 24.3s\n",
      "2:\tlearn: 1.1354875\ttotal: 249ms\tremaining: 24.6s\n",
      "3:\tlearn: 1.0798645\ttotal: 338ms\tremaining: 25s\n",
      "4:\tlearn: 1.0383813\ttotal: 427ms\tremaining: 25.2s\n",
      "5:\tlearn: 0.9812037\ttotal: 517ms\tremaining: 25.3s\n",
      "6:\tlearn: 0.9295078\ttotal: 609ms\tremaining: 25.5s\n",
      "7:\tlearn: 0.8883244\ttotal: 698ms\tremaining: 25.5s\n",
      "8:\tlearn: 0.8500177\ttotal: 791ms\tremaining: 25.6s\n",
      "9:\tlearn: 0.8143041\ttotal: 881ms\tremaining: 25.6s\n",
      "10:\tlearn: 0.7743198\ttotal: 969ms\tremaining: 25.5s\n",
      "11:\tlearn: 0.7393267\ttotal: 1.06s\tremaining: 25.4s\n",
      "12:\tlearn: 0.7144601\ttotal: 1.14s\tremaining: 25.2s\n",
      "13:\tlearn: 0.6825898\ttotal: 1.22s\tremaining: 25s\n",
      "14:\tlearn: 0.6578315\ttotal: 1.3s\tremaining: 24.7s\n",
      "15:\tlearn: 0.6410693\ttotal: 1.39s\tremaining: 24.7s\n",
      "16:\tlearn: 0.6287535\ttotal: 1.48s\tremaining: 24.6s\n",
      "17:\tlearn: 0.6011611\ttotal: 1.58s\tremaining: 24.7s\n",
      "18:\tlearn: 0.5811846\ttotal: 1.67s\tremaining: 24.7s\n",
      "19:\tlearn: 0.5593761\ttotal: 1.76s\tremaining: 24.7s\n",
      "20:\tlearn: 0.5429990\ttotal: 1.86s\tremaining: 24.7s\n",
      "21:\tlearn: 0.5318414\ttotal: 1.95s\tremaining: 24.7s\n",
      "22:\tlearn: 0.5200983\ttotal: 2.04s\tremaining: 24.6s\n",
      "23:\tlearn: 0.5069041\ttotal: 2.13s\tremaining: 24.6s\n",
      "24:\tlearn: 0.4949250\ttotal: 2.23s\tremaining: 24.5s\n",
      "25:\tlearn: 0.4860003\ttotal: 2.31s\tremaining: 24.4s\n",
      "26:\tlearn: 0.4718524\ttotal: 2.4s\tremaining: 24.3s\n",
      "27:\tlearn: 0.4537427\ttotal: 2.49s\tremaining: 24.2s\n",
      "28:\tlearn: 0.4418180\ttotal: 2.57s\tremaining: 24s\n",
      "29:\tlearn: 0.4368112\ttotal: 2.65s\tremaining: 23.8s\n",
      "30:\tlearn: 0.4252582\ttotal: 2.73s\tremaining: 23.7s\n",
      "31:\tlearn: 0.4201611\ttotal: 2.81s\tremaining: 23.5s\n",
      "32:\tlearn: 0.4124724\ttotal: 2.89s\tremaining: 23.4s\n",
      "33:\tlearn: 0.4000341\ttotal: 2.97s\tremaining: 23.3s\n",
      "34:\tlearn: 0.3957462\ttotal: 3.05s\tremaining: 23.1s\n",
      "35:\tlearn: 0.3885121\ttotal: 3.13s\tremaining: 22.9s\n",
      "36:\tlearn: 0.3815770\ttotal: 3.21s\tremaining: 22.8s\n",
      "37:\tlearn: 0.3722956\ttotal: 3.29s\tremaining: 22.7s\n",
      "38:\tlearn: 0.3625645\ttotal: 3.39s\tremaining: 22.7s\n",
      "39:\tlearn: 0.3594993\ttotal: 3.48s\tremaining: 22.6s\n",
      "40:\tlearn: 0.3544626\ttotal: 3.57s\tremaining: 22.6s\n",
      "41:\tlearn: 0.3485717\ttotal: 3.67s\tremaining: 22.6s\n",
      "42:\tlearn: 0.3444740\ttotal: 3.77s\tremaining: 22.6s\n",
      "43:\tlearn: 0.3305152\ttotal: 3.87s\tremaining: 22.5s\n",
      "44:\tlearn: 0.3272856\ttotal: 3.98s\tremaining: 22.5s\n",
      "45:\tlearn: 0.3183108\ttotal: 4.1s\tremaining: 22.7s\n",
      "46:\tlearn: 0.3138856\ttotal: 4.21s\tremaining: 22.7s\n",
      "47:\tlearn: 0.3114071\ttotal: 4.34s\tremaining: 22.8s\n",
      "48:\tlearn: 0.3080980\ttotal: 4.47s\tremaining: 22.9s\n",
      "49:\tlearn: 0.3027707\ttotal: 4.59s\tremaining: 23s\n",
      "50:\tlearn: 0.2944797\ttotal: 4.68s\tremaining: 22.9s\n",
      "51:\tlearn: 0.2912880\ttotal: 4.79s\tremaining: 22.8s\n",
      "52:\tlearn: 0.2883614\ttotal: 4.89s\tremaining: 22.8s\n",
      "53:\tlearn: 0.2827984\ttotal: 4.99s\tremaining: 22.7s\n",
      "54:\tlearn: 0.2770137\ttotal: 5.08s\tremaining: 22.6s\n",
      "55:\tlearn: 0.2746288\ttotal: 5.18s\tremaining: 22.6s\n",
      "56:\tlearn: 0.2715960\ttotal: 5.26s\tremaining: 22.4s\n",
      "57:\tlearn: 0.2687145\ttotal: 5.36s\tremaining: 22.3s\n",
      "58:\tlearn: 0.2654127\ttotal: 5.47s\tremaining: 22.3s\n",
      "59:\tlearn: 0.2637947\ttotal: 5.57s\tremaining: 22.3s\n",
      "60:\tlearn: 0.2614660\ttotal: 5.67s\tremaining: 22.2s\n",
      "61:\tlearn: 0.2587299\ttotal: 5.76s\tremaining: 22.1s\n",
      "62:\tlearn: 0.2545432\ttotal: 5.85s\tremaining: 22s\n",
      "63:\tlearn: 0.2529457\ttotal: 5.93s\tremaining: 21.9s\n",
      "64:\tlearn: 0.2493882\ttotal: 6.02s\tremaining: 21.8s\n",
      "65:\tlearn: 0.2462158\ttotal: 6.11s\tremaining: 21.7s\n",
      "66:\tlearn: 0.2453088\ttotal: 6.2s\tremaining: 21.6s\n",
      "67:\tlearn: 0.2394374\ttotal: 6.29s\tremaining: 21.4s\n",
      "68:\tlearn: 0.2377751\ttotal: 6.37s\tremaining: 21.3s\n",
      "69:\tlearn: 0.2361325\ttotal: 6.45s\tremaining: 21.2s\n",
      "70:\tlearn: 0.2348165\ttotal: 6.54s\tremaining: 21.1s\n",
      "71:\tlearn: 0.2294231\ttotal: 6.66s\tremaining: 21.1s\n",
      "72:\tlearn: 0.2280285\ttotal: 6.75s\tremaining: 21s\n",
      "73:\tlearn: 0.2263511\ttotal: 6.83s\tremaining: 20.8s\n",
      "74:\tlearn: 0.2237973\ttotal: 6.91s\tremaining: 20.7s\n",
      "75:\tlearn: 0.2215111\ttotal: 7s\tremaining: 20.6s\n",
      "76:\tlearn: 0.2192217\ttotal: 7.08s\tremaining: 20.5s\n",
      "77:\tlearn: 0.2160104\ttotal: 7.16s\tremaining: 20.4s\n",
      "78:\tlearn: 0.2142979\ttotal: 7.24s\tremaining: 20.2s\n",
      "79:\tlearn: 0.2125206\ttotal: 7.33s\tremaining: 20.2s\n",
      "80:\tlearn: 0.2109016\ttotal: 7.42s\tremaining: 20.1s\n",
      "81:\tlearn: 0.2087178\ttotal: 7.5s\tremaining: 19.9s\n",
      "82:\tlearn: 0.2078923\ttotal: 7.59s\tremaining: 19.9s\n",
      "83:\tlearn: 0.2070479\ttotal: 7.68s\tremaining: 19.7s\n",
      "84:\tlearn: 0.2061403\ttotal: 7.75s\tremaining: 19.6s\n",
      "85:\tlearn: 0.2052032\ttotal: 7.83s\tremaining: 19.5s\n",
      "86:\tlearn: 0.2026575\ttotal: 7.92s\tremaining: 19.4s\n",
      "87:\tlearn: 0.1984353\ttotal: 8s\tremaining: 19.3s\n",
      "88:\tlearn: 0.1963432\ttotal: 8.07s\tremaining: 19.1s\n",
      "89:\tlearn: 0.1956107\ttotal: 8.16s\tremaining: 19s\n",
      "90:\tlearn: 0.1922682\ttotal: 8.24s\tremaining: 18.9s\n",
      "91:\tlearn: 0.1900904\ttotal: 8.32s\tremaining: 18.8s\n",
      "92:\tlearn: 0.1882848\ttotal: 8.4s\tremaining: 18.7s\n",
      "93:\tlearn: 0.1869541\ttotal: 8.48s\tremaining: 18.6s\n",
      "94:\tlearn: 0.1861912\ttotal: 8.56s\tremaining: 18.5s\n",
      "95:\tlearn: 0.1837959\ttotal: 8.65s\tremaining: 18.4s\n",
      "96:\tlearn: 0.1831786\ttotal: 8.73s\tremaining: 18.3s\n",
      "97:\tlearn: 0.1816366\ttotal: 8.81s\tremaining: 18.2s\n",
      "98:\tlearn: 0.1804376\ttotal: 8.88s\tremaining: 18s\n",
      "99:\tlearn: 0.1798313\ttotal: 8.96s\tremaining: 17.9s\n",
      "100:\tlearn: 0.1786342\ttotal: 9.05s\tremaining: 17.8s\n",
      "101:\tlearn: 0.1773912\ttotal: 9.13s\tremaining: 17.7s\n",
      "102:\tlearn: 0.1769414\ttotal: 9.21s\tremaining: 17.6s\n",
      "103:\tlearn: 0.1761262\ttotal: 9.29s\tremaining: 17.5s\n",
      "104:\tlearn: 0.1750053\ttotal: 9.37s\tremaining: 17.4s\n",
      "105:\tlearn: 0.1744627\ttotal: 9.45s\tremaining: 17.3s\n",
      "106:\tlearn: 0.1728376\ttotal: 9.53s\tremaining: 17.2s\n",
      "107:\tlearn: 0.1722444\ttotal: 9.61s\tremaining: 17.1s\n",
      "108:\tlearn: 0.1718204\ttotal: 9.69s\tremaining: 17s\n",
      "109:\tlearn: 0.1712622\ttotal: 9.77s\tremaining: 16.9s\n",
      "110:\tlearn: 0.1661939\ttotal: 9.85s\tremaining: 16.8s\n",
      "111:\tlearn: 0.1654627\ttotal: 9.93s\tremaining: 16.7s\n",
      "112:\tlearn: 0.1645938\ttotal: 10s\tremaining: 16.6s\n",
      "113:\tlearn: 0.1622935\ttotal: 10.1s\tremaining: 16.5s\n",
      "114:\tlearn: 0.1609170\ttotal: 10.2s\tremaining: 16.4s\n",
      "115:\tlearn: 0.1602329\ttotal: 10.3s\tremaining: 16.3s\n",
      "116:\tlearn: 0.1598925\ttotal: 10.3s\tremaining: 16.2s\n",
      "117:\tlearn: 0.1581433\ttotal: 10.4s\tremaining: 16.1s\n",
      "118:\tlearn: 0.1566295\ttotal: 10.5s\tremaining: 16s\n",
      "119:\tlearn: 0.1559396\ttotal: 10.6s\tremaining: 15.9s\n",
      "120:\tlearn: 0.1554829\ttotal: 10.7s\tremaining: 15.8s\n",
      "121:\tlearn: 0.1526664\ttotal: 10.7s\tremaining: 15.7s\n",
      "122:\tlearn: 0.1517880\ttotal: 10.8s\tremaining: 15.6s\n",
      "123:\tlearn: 0.1508976\ttotal: 10.9s\tremaining: 15.5s\n",
      "124:\tlearn: 0.1496958\ttotal: 11s\tremaining: 15.4s\n",
      "125:\tlearn: 0.1492515\ttotal: 11.1s\tremaining: 15.3s\n",
      "126:\tlearn: 0.1478492\ttotal: 11.2s\tremaining: 15.2s\n",
      "127:\tlearn: 0.1467600\ttotal: 11.3s\tremaining: 15.1s\n",
      "128:\tlearn: 0.1462571\ttotal: 11.3s\tremaining: 15s\n",
      "129:\tlearn: 0.1457169\ttotal: 11.4s\tremaining: 14.9s\n",
      "130:\tlearn: 0.1452864\ttotal: 11.5s\tremaining: 14.8s\n",
      "131:\tlearn: 0.1446664\ttotal: 11.6s\tremaining: 14.7s\n",
      "132:\tlearn: 0.1441698\ttotal: 11.7s\tremaining: 14.6s\n",
      "133:\tlearn: 0.1425989\ttotal: 11.7s\tremaining: 14.5s\n",
      "134:\tlearn: 0.1404405\ttotal: 11.8s\tremaining: 14.4s\n",
      "135:\tlearn: 0.1400145\ttotal: 11.9s\tremaining: 14.3s\n",
      "136:\tlearn: 0.1385553\ttotal: 12s\tremaining: 14.2s\n",
      "137:\tlearn: 0.1381058\ttotal: 12.1s\tremaining: 14.2s\n",
      "138:\tlearn: 0.1378256\ttotal: 12.1s\tremaining: 14.1s\n",
      "139:\tlearn: 0.1373315\ttotal: 12.2s\tremaining: 14s\n",
      "140:\tlearn: 0.1369750\ttotal: 12.3s\tremaining: 13.9s\n",
      "141:\tlearn: 0.1366066\ttotal: 12.4s\tremaining: 13.8s\n",
      "142:\tlearn: 0.1342258\ttotal: 12.5s\tremaining: 13.7s\n",
      "143:\tlearn: 0.1339772\ttotal: 12.5s\tremaining: 13.6s\n",
      "144:\tlearn: 0.1324105\ttotal: 12.6s\tremaining: 13.5s\n",
      "145:\tlearn: 0.1307946\ttotal: 12.7s\tremaining: 13.4s\n",
      "146:\tlearn: 0.1293858\ttotal: 12.8s\tremaining: 13.3s\n",
      "147:\tlearn: 0.1287966\ttotal: 12.9s\tremaining: 13.2s\n",
      "148:\tlearn: 0.1280211\ttotal: 13s\tremaining: 13.1s\n",
      "149:\tlearn: 0.1271243\ttotal: 13s\tremaining: 13s\n",
      "150:\tlearn: 0.1263665\ttotal: 13.1s\tremaining: 12.9s\n",
      "151:\tlearn: 0.1248763\ttotal: 13.2s\tremaining: 12.8s\n",
      "152:\tlearn: 0.1244392\ttotal: 13.3s\tremaining: 12.8s\n",
      "153:\tlearn: 0.1238262\ttotal: 13.4s\tremaining: 12.7s\n",
      "154:\tlearn: 0.1229634\ttotal: 13.4s\tremaining: 12.6s\n",
      "155:\tlearn: 0.1226534\ttotal: 13.5s\tremaining: 12.5s\n",
      "156:\tlearn: 0.1217571\ttotal: 13.6s\tremaining: 12.4s\n",
      "157:\tlearn: 0.1214917\ttotal: 13.7s\tremaining: 12.3s\n",
      "158:\tlearn: 0.1213520\ttotal: 13.8s\tremaining: 12.2s\n",
      "159:\tlearn: 0.1190588\ttotal: 13.8s\tremaining: 12.1s\n",
      "160:\tlearn: 0.1185406\ttotal: 13.9s\tremaining: 12s\n",
      "161:\tlearn: 0.1180690\ttotal: 14s\tremaining: 11.9s\n",
      "162:\tlearn: 0.1176483\ttotal: 14.1s\tremaining: 11.8s\n",
      "163:\tlearn: 0.1173330\ttotal: 14.2s\tremaining: 11.7s\n",
      "164:\tlearn: 0.1169450\ttotal: 14.2s\tremaining: 11.6s\n",
      "165:\tlearn: 0.1166621\ttotal: 14.3s\tremaining: 11.6s\n",
      "166:\tlearn: 0.1160938\ttotal: 14.4s\tremaining: 11.5s\n",
      "167:\tlearn: 0.1157397\ttotal: 14.5s\tremaining: 11.4s\n",
      "168:\tlearn: 0.1154415\ttotal: 14.6s\tremaining: 11.3s\n",
      "169:\tlearn: 0.1146560\ttotal: 14.7s\tremaining: 11.2s\n",
      "170:\tlearn: 0.1141614\ttotal: 14.7s\tremaining: 11.1s\n",
      "171:\tlearn: 0.1131991\ttotal: 14.8s\tremaining: 11s\n",
      "172:\tlearn: 0.1128706\ttotal: 14.9s\tremaining: 11s\n",
      "173:\tlearn: 0.1126394\ttotal: 15s\tremaining: 10.9s\n",
      "174:\tlearn: 0.1123049\ttotal: 15.1s\tremaining: 10.8s\n",
      "175:\tlearn: 0.1111409\ttotal: 15.2s\tremaining: 10.7s\n",
      "176:\tlearn: 0.1107925\ttotal: 15.3s\tremaining: 10.6s\n",
      "177:\tlearn: 0.1103527\ttotal: 15.3s\tremaining: 10.5s\n",
      "178:\tlearn: 0.1101467\ttotal: 15.4s\tremaining: 10.4s\n",
      "179:\tlearn: 0.1088220\ttotal: 15.5s\tremaining: 10.3s\n",
      "180:\tlearn: 0.1083270\ttotal: 15.6s\tremaining: 10.2s\n",
      "181:\tlearn: 0.1081757\ttotal: 15.7s\tremaining: 10.2s\n",
      "182:\tlearn: 0.1073096\ttotal: 15.8s\tremaining: 10.1s\n",
      "183:\tlearn: 0.1065880\ttotal: 15.8s\tremaining: 9.98s\n",
      "184:\tlearn: 0.1046462\ttotal: 15.9s\tremaining: 9.89s\n",
      "185:\tlearn: 0.1042359\ttotal: 16s\tremaining: 9.8s\n",
      "186:\tlearn: 0.1038629\ttotal: 16.1s\tremaining: 9.71s\n",
      "187:\tlearn: 0.1036392\ttotal: 16.1s\tremaining: 9.62s\n",
      "188:\tlearn: 0.1032803\ttotal: 16.2s\tremaining: 9.53s\n",
      "189:\tlearn: 0.1026827\ttotal: 16.3s\tremaining: 9.44s\n",
      "190:\tlearn: 0.1020602\ttotal: 16.4s\tremaining: 9.35s\n",
      "191:\tlearn: 0.1016098\ttotal: 16.5s\tremaining: 9.26s\n",
      "192:\tlearn: 0.1014148\ttotal: 16.5s\tremaining: 9.17s\n",
      "193:\tlearn: 0.1011529\ttotal: 16.6s\tremaining: 9.08s\n",
      "194:\tlearn: 0.1000281\ttotal: 16.7s\tremaining: 8.99s\n",
      "195:\tlearn: 0.0998569\ttotal: 16.8s\tremaining: 8.9s\n",
      "196:\tlearn: 0.0994336\ttotal: 16.9s\tremaining: 8.81s\n",
      "197:\tlearn: 0.0983817\ttotal: 16.9s\tremaining: 8.72s\n",
      "198:\tlearn: 0.0981976\ttotal: 17s\tremaining: 8.64s\n",
      "199:\tlearn: 0.0974183\ttotal: 17.1s\tremaining: 8.55s\n",
      "200:\tlearn: 0.0972961\ttotal: 17.2s\tremaining: 8.46s\n",
      "201:\tlearn: 0.0968847\ttotal: 17.3s\tremaining: 8.37s\n",
      "202:\tlearn: 0.0961895\ttotal: 17.3s\tremaining: 8.29s\n",
      "203:\tlearn: 0.0958684\ttotal: 17.4s\tremaining: 8.2s\n",
      "204:\tlearn: 0.0956012\ttotal: 17.5s\tremaining: 8.11s\n",
      "205:\tlearn: 0.0954113\ttotal: 17.6s\tremaining: 8.02s\n",
      "206:\tlearn: 0.0950516\ttotal: 17.7s\tremaining: 7.93s\n",
      "207:\tlearn: 0.0948714\ttotal: 17.7s\tremaining: 7.84s\n",
      "208:\tlearn: 0.0945853\ttotal: 17.8s\tremaining: 7.76s\n",
      "209:\tlearn: 0.0940716\ttotal: 17.9s\tremaining: 7.67s\n",
      "210:\tlearn: 0.0938467\ttotal: 18s\tremaining: 7.58s\n",
      "211:\tlearn: 0.0936482\ttotal: 18.1s\tremaining: 7.5s\n",
      "212:\tlearn: 0.0923054\ttotal: 18.1s\tremaining: 7.41s\n",
      "213:\tlearn: 0.0921768\ttotal: 18.2s\tremaining: 7.32s\n",
      "214:\tlearn: 0.0914880\ttotal: 18.3s\tremaining: 7.24s\n",
      "215:\tlearn: 0.0910861\ttotal: 18.4s\tremaining: 7.15s\n",
      "216:\tlearn: 0.0908872\ttotal: 18.5s\tremaining: 7.07s\n",
      "217:\tlearn: 0.0890219\ttotal: 18.6s\tremaining: 6.98s\n",
      "218:\tlearn: 0.0884538\ttotal: 18.7s\tremaining: 6.9s\n",
      "219:\tlearn: 0.0880499\ttotal: 18.7s\tremaining: 6.81s\n",
      "220:\tlearn: 0.0869411\ttotal: 18.8s\tremaining: 6.73s\n",
      "221:\tlearn: 0.0867895\ttotal: 18.9s\tremaining: 6.64s\n",
      "222:\tlearn: 0.0862745\ttotal: 19s\tremaining: 6.55s\n",
      "223:\tlearn: 0.0861016\ttotal: 19.1s\tremaining: 6.46s\n",
      "224:\tlearn: 0.0859521\ttotal: 19.1s\tremaining: 6.38s\n",
      "225:\tlearn: 0.0855537\ttotal: 19.2s\tremaining: 6.29s\n",
      "226:\tlearn: 0.0853923\ttotal: 19.3s\tremaining: 6.21s\n",
      "227:\tlearn: 0.0852416\ttotal: 19.4s\tremaining: 6.12s\n",
      "228:\tlearn: 0.0850730\ttotal: 19.5s\tremaining: 6.04s\n",
      "229:\tlearn: 0.0845123\ttotal: 19.6s\tremaining: 5.95s\n",
      "230:\tlearn: 0.0844057\ttotal: 19.6s\tremaining: 5.87s\n",
      "231:\tlearn: 0.0840368\ttotal: 19.7s\tremaining: 5.78s\n",
      "232:\tlearn: 0.0839413\ttotal: 19.8s\tremaining: 5.69s\n",
      "233:\tlearn: 0.0837661\ttotal: 19.9s\tremaining: 5.61s\n",
      "234:\tlearn: 0.0835382\ttotal: 20s\tremaining: 5.52s\n",
      "235:\tlearn: 0.0829997\ttotal: 20s\tremaining: 5.43s\n",
      "236:\tlearn: 0.0828270\ttotal: 20.1s\tremaining: 5.35s\n",
      "237:\tlearn: 0.0818735\ttotal: 20.2s\tremaining: 5.26s\n",
      "238:\tlearn: 0.0817324\ttotal: 20.3s\tremaining: 5.18s\n",
      "239:\tlearn: 0.0816598\ttotal: 20.4s\tremaining: 5.09s\n",
      "240:\tlearn: 0.0805446\ttotal: 20.4s\tremaining: 5s\n",
      "241:\tlearn: 0.0796827\ttotal: 20.5s\tremaining: 4.92s\n",
      "242:\tlearn: 0.0794336\ttotal: 20.6s\tremaining: 4.83s\n",
      "243:\tlearn: 0.0789831\ttotal: 20.7s\tremaining: 4.75s\n",
      "244:\tlearn: 0.0788837\ttotal: 20.8s\tremaining: 4.66s\n",
      "245:\tlearn: 0.0785598\ttotal: 20.8s\tremaining: 4.57s\n",
      "246:\tlearn: 0.0783982\ttotal: 20.9s\tremaining: 4.49s\n",
      "247:\tlearn: 0.0783039\ttotal: 21s\tremaining: 4.4s\n",
      "248:\tlearn: 0.0778433\ttotal: 21.1s\tremaining: 4.32s\n",
      "249:\tlearn: 0.0773706\ttotal: 21.1s\tremaining: 4.23s\n",
      "250:\tlearn: 0.0772505\ttotal: 21.2s\tremaining: 4.14s\n",
      "251:\tlearn: 0.0771023\ttotal: 21.3s\tremaining: 4.06s\n",
      "252:\tlearn: 0.0767078\ttotal: 21.4s\tremaining: 3.97s\n",
      "253:\tlearn: 0.0762107\ttotal: 21.5s\tremaining: 3.88s\n",
      "254:\tlearn: 0.0759458\ttotal: 21.5s\tremaining: 3.8s\n",
      "255:\tlearn: 0.0747254\ttotal: 21.6s\tremaining: 3.71s\n",
      "256:\tlearn: 0.0745086\ttotal: 21.7s\tremaining: 3.63s\n",
      "257:\tlearn: 0.0743094\ttotal: 21.8s\tremaining: 3.54s\n",
      "258:\tlearn: 0.0741626\ttotal: 21.9s\tremaining: 3.46s\n",
      "259:\tlearn: 0.0738138\ttotal: 21.9s\tremaining: 3.37s\n",
      "260:\tlearn: 0.0735783\ttotal: 22s\tremaining: 3.29s\n",
      "261:\tlearn: 0.0733035\ttotal: 22.1s\tremaining: 3.2s\n",
      "262:\tlearn: 0.0730916\ttotal: 22.2s\tremaining: 3.12s\n",
      "263:\tlearn: 0.0721401\ttotal: 22.2s\tremaining: 3.03s\n",
      "264:\tlearn: 0.0719120\ttotal: 22.3s\tremaining: 2.95s\n",
      "265:\tlearn: 0.0717548\ttotal: 22.4s\tremaining: 2.86s\n",
      "266:\tlearn: 0.0716103\ttotal: 22.5s\tremaining: 2.78s\n",
      "267:\tlearn: 0.0707896\ttotal: 22.6s\tremaining: 2.69s\n",
      "268:\tlearn: 0.0698728\ttotal: 22.6s\tremaining: 2.61s\n",
      "269:\tlearn: 0.0697530\ttotal: 22.7s\tremaining: 2.52s\n",
      "270:\tlearn: 0.0696051\ttotal: 22.8s\tremaining: 2.44s\n",
      "271:\tlearn: 0.0695100\ttotal: 22.9s\tremaining: 2.35s\n",
      "272:\tlearn: 0.0694140\ttotal: 22.9s\tremaining: 2.27s\n",
      "273:\tlearn: 0.0689611\ttotal: 23s\tremaining: 2.18s\n",
      "274:\tlearn: 0.0689021\ttotal: 23.1s\tremaining: 2.1s\n",
      "275:\tlearn: 0.0686260\ttotal: 23.2s\tremaining: 2.02s\n",
      "276:\tlearn: 0.0682839\ttotal: 23.3s\tremaining: 1.93s\n",
      "277:\tlearn: 0.0681556\ttotal: 23.3s\tremaining: 1.85s\n",
      "278:\tlearn: 0.0679904\ttotal: 23.4s\tremaining: 1.76s\n",
      "279:\tlearn: 0.0677851\ttotal: 23.5s\tremaining: 1.68s\n",
      "280:\tlearn: 0.0675090\ttotal: 23.6s\tremaining: 1.59s\n",
      "281:\tlearn: 0.0674284\ttotal: 23.6s\tremaining: 1.51s\n",
      "282:\tlearn: 0.0672971\ttotal: 23.7s\tremaining: 1.43s\n",
      "283:\tlearn: 0.0668206\ttotal: 23.8s\tremaining: 1.34s\n",
      "284:\tlearn: 0.0666788\ttotal: 23.9s\tremaining: 1.26s\n",
      "285:\tlearn: 0.0662010\ttotal: 24s\tremaining: 1.17s\n",
      "286:\tlearn: 0.0661044\ttotal: 24s\tremaining: 1.09s\n",
      "287:\tlearn: 0.0653168\ttotal: 24.1s\tremaining: 1s\n",
      "288:\tlearn: 0.0652287\ttotal: 24.2s\tremaining: 921ms\n",
      "289:\tlearn: 0.0651251\ttotal: 24.3s\tremaining: 837ms\n",
      "290:\tlearn: 0.0650350\ttotal: 24.4s\tremaining: 753ms\n",
      "291:\tlearn: 0.0649684\ttotal: 24.4s\tremaining: 669ms\n",
      "292:\tlearn: 0.0648937\ttotal: 24.5s\tremaining: 586ms\n",
      "293:\tlearn: 0.0645938\ttotal: 24.6s\tremaining: 502ms\n",
      "294:\tlearn: 0.0645013\ttotal: 24.7s\tremaining: 418ms\n",
      "295:\tlearn: 0.0642813\ttotal: 24.7s\tremaining: 334ms\n",
      "296:\tlearn: 0.0639249\ttotal: 24.8s\tremaining: 251ms\n",
      "297:\tlearn: 0.0638177\ttotal: 24.9s\tremaining: 167ms\n",
      "298:\tlearn: 0.0634127\ttotal: 25s\tremaining: 83.6ms\n",
      "299:\tlearn: 0.0627440\ttotal: 25.1s\tremaining: 0us\n",
      "Модель CatBoostClassifier:\n",
      "              precision    recall  f1-score   support\n",
      "\n",
      "           1       0.97      0.83      0.89       143\n",
      "           2       0.94      1.00      0.97       119\n",
      "           3       1.00      1.00      1.00       129\n",
      "           4       1.00      1.00      1.00       139\n",
      "           5       0.87      0.96      0.91       123\n",
      "\n",
      "    accuracy                           0.96       653\n",
      "   macro avg       0.96      0.96      0.96       653\n",
      "weighted avg       0.96      0.96      0.95       653\n",
      "\n"
     ]
    }
   ],
   "source": [
    "from catboost import CatBoostClassifier\n",
    "import time\n",
    "\n",
    "start_time = time.time()\n",
    "\n",
    "classifier = CatBoostClassifier(\n",
    "    iterations=300,\n",
    "    random_seed=43,\n",
    "    loss_function='MultiClass'\n",
    ")\n",
    "classifier.fit(X_train_tfidf, pd.DataFrame(y_train))\n",
    "\n",
    "# Предсказание категорий для тестовых данных\n",
    "y_pred = classifier.predict(X_test_tfidf)\n",
    "\n",
    "# Оценка точности модели\n",
    "accuracy_cat = accuracy_score(pd.DataFrame(y_test), pd.DataFrame(y_pred))\n",
    "print(\"Модель CatBoostClassifier:\")\n",
    "print(metrics.classification_report(y_test, y_pred))\n",
    "\n",
    "time_cat = time.time() - start_time"
   ]
  },
  {
   "cell_type": "code",
   "execution_count": 91,
   "metadata": {},
   "outputs": [
    {
     "name": "stderr",
     "output_type": "stream",
     "text": [
      "C:\\Users\\denis\\AppData\\Local\\Temp\\ipykernel_5060\\3030477162.py:7: DataConversionWarning: A column-vector y was passed when a 1d array was expected. Please change the shape of y to (n_samples,), for example using ravel().\n",
      "  classifier.fit(X_train_tfidf, pd.DataFrame(y_train))\n"
     ]
    },
    {
     "name": "stdout",
     "output_type": "stream",
     "text": [
      "Модель RandomForestClassifier:\n",
      "              precision    recall  f1-score   support\n",
      "\n",
      "           1       0.98      0.84      0.91       143\n",
      "           2       1.00      1.00      1.00       119\n",
      "           3       1.00      1.00      1.00       129\n",
      "           4       1.00      1.00      1.00       139\n",
      "           5       0.84      0.98      0.91       123\n",
      "\n",
      "    accuracy                           0.96       653\n",
      "   macro avg       0.96      0.96      0.96       653\n",
      "weighted avg       0.97      0.96      0.96       653\n",
      "\n"
     ]
    }
   ],
   "source": [
    "from sklearn.ensemble import RandomForestClassifier\n",
    "\n",
    "import time\n",
    "start_time = time.time()\n",
    "\n",
    "classifier = RandomForestClassifier()\n",
    "classifier.fit(X_train_tfidf, pd.DataFrame(y_train))\n",
    "\n",
    "# Предсказание категорий для тестовых данных\n",
    "y_pred = classifier.predict(X_test_tfidf)\n",
    "\n",
    "# Оценка точности модели\n",
    "accuracy_rfc = accuracy_score(pd.DataFrame(y_test), pd.DataFrame(y_pred))\n",
    "print(\"Модель RandomForestClassifier:\")\n",
    "print(metrics.classification_report(y_test, y_pred))\n",
    "\n",
    "time_rfc = time.time() - start_time"
   ]
  },
  {
   "cell_type": "code",
   "execution_count": 99,
   "metadata": {},
   "outputs": [
    {
     "data": {
      "text/html": [
       "<div>\n",
       "<style scoped>\n",
       "    .dataframe tbody tr th:only-of-type {\n",
       "        vertical-align: middle;\n",
       "    }\n",
       "\n",
       "    .dataframe tbody tr th {\n",
       "        vertical-align: top;\n",
       "    }\n",
       "\n",
       "    .dataframe thead th {\n",
       "        text-align: right;\n",
       "    }\n",
       "</style>\n",
       "<table border=\"1\" class=\"dataframe\">\n",
       "  <thead>\n",
       "    <tr style=\"text-align: right;\">\n",
       "      <th></th>\n",
       "      <th>time</th>\n",
       "      <th>score</th>\n",
       "      <th>Name</th>\n",
       "    </tr>\n",
       "  </thead>\n",
       "  <tbody>\n",
       "    <tr>\n",
       "      <th>0</th>\n",
       "      <td>19.396776</td>\n",
       "      <td>0.981623</td>\n",
       "      <td>MLPClassifier</td>\n",
       "    </tr>\n",
       "    <tr>\n",
       "      <th>1</th>\n",
       "      <td>0.007000</td>\n",
       "      <td>0.885145</td>\n",
       "      <td>MultinomialNB</td>\n",
       "    </tr>\n",
       "    <tr>\n",
       "      <th>2</th>\n",
       "      <td>0.879000</td>\n",
       "      <td>0.961715</td>\n",
       "      <td>RandomForestClassifier</td>\n",
       "    </tr>\n",
       "    <tr>\n",
       "      <th>3</th>\n",
       "      <td>25.448505</td>\n",
       "      <td>0.955590</td>\n",
       "      <td>CatBoostClassifier</td>\n",
       "    </tr>\n",
       "  </tbody>\n",
       "</table>\n",
       "</div>"
      ],
      "text/plain": [
       "        time     score                    Name\n",
       "0  19.396776  0.981623           MLPClassifier\n",
       "1   0.007000  0.885145           MultinomialNB\n",
       "2   0.879000  0.961715  RandomForestClassifier\n",
       "3  25.448505  0.955590      CatBoostClassifier"
      ]
     },
     "execution_count": 99,
     "metadata": {},
     "output_type": "execute_result"
    }
   ],
   "source": [
    "runtimes = [time_MLPC, time_MNB, time_rfc, time_cat]\n",
    "scores = [accuracy_MLPC, accuracy_MNB, accuracy_rfc, accuracy_cat]\n",
    "names = ['MLPClassifier', 'MultinomialNB', 'RandomForestClassifier', 'CatBoostClassifier']\n",
    "\n",
    "results = pd.DataFrame(list(zip(runtimes, scores, names)), columns=['time', 'score', 'Name'])\n",
    "results"
   ]
  },
  {
   "cell_type": "markdown",
   "metadata": {},
   "source": [
    "Судя по результатам точности моделей, выбор однозначно лучше сделать в сторону MLPClassifier, результаты хорошие и стабильные.\\\n",
    "Если бы нам нужно было в короткое время оценить что-либо с более-менее хорошей точностью, то выбор можно было бы сделать в сторону RandomForestClassifier, он в 20 раз быстрее, при этом точность не намного хуже. "
   ]
  },
  {
   "cell_type": "code",
   "execution_count": 140,
   "metadata": {},
   "outputs": [],
   "source": [
    "def predict(text):\n",
    "    text_tf = tfidf_vectorizer.transform(text)\n",
    "    print('Оценка: ',int(classifier.predict(text_tf)))"
   ]
  },
  {
   "cell_type": "code",
   "execution_count": 141,
   "metadata": {},
   "outputs": [
    {
     "name": "stdout",
     "output_type": "stream",
     "text": [
      "Оценка:  5\n"
     ]
    }
   ],
   "source": [
    "predict(['мне все понравилось очень быстро реагировали'])"
   ]
  },
  {
   "cell_type": "code",
   "execution_count": 151,
   "metadata": {},
   "outputs": [
    {
     "name": "stdout",
     "output_type": "stream",
     "text": [
      "Оценка:  4\n"
     ]
    }
   ],
   "source": [
    "predict([' выплаты за дтп очень маленькие, не рекомендую, очень долго просидела в очереди, больше сюда не пойду'])"
   ]
  },
  {
   "cell_type": "code",
   "execution_count": 143,
   "metadata": {},
   "outputs": [
    {
     "name": "stdout",
     "output_type": "stream",
     "text": [
      "Оценка:  2\n"
     ]
    }
   ],
   "source": [
    "predict(['в принципе пользоваться можно, но есть страховые и лучше'])"
   ]
  },
  {
   "cell_type": "code",
   "execution_count": 154,
   "metadata": {},
   "outputs": [
    {
     "name": "stdout",
     "output_type": "stream",
     "text": [
      "Оценка:  1\n"
     ]
    }
   ],
   "source": [
    "predict(['ужасная страховая, никогда не рекомендовали пользоваться альфастрахованием'])"
   ]
  },
  {
   "cell_type": "code",
   "execution_count": null,
   "metadata": {},
   "outputs": [],
   "source": []
  }
 ],
 "metadata": {
  "kernelspec": {
   "display_name": "Python 3",
   "language": "python",
   "name": "python3"
  },
  "language_info": {
   "codemirror_mode": {
    "name": "ipython",
    "version": 3
   },
   "file_extension": ".py",
   "mimetype": "text/x-python",
   "name": "python",
   "nbconvert_exporter": "python",
   "pygments_lexer": "ipython3",
   "version": "3.9.6"
  },
  "orig_nbformat": 4
 },
 "nbformat": 4,
 "nbformat_minor": 2
}
